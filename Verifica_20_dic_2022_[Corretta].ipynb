{
  "nbformat": 4,
  "nbformat_minor": 0,
  "metadata": {
    "colab": {
      "provenance": []
    },
    "kernelspec": {
      "name": "python3",
      "display_name": "Python 3"
    },
    "language_info": {
      "name": "python"
    }
  },
  "cells": [
    {
      "cell_type": "code",
      "execution_count": null,
      "metadata": {
        "id": "0HOm4OaKE6zo"
      },
      "outputs": [],
      "source": [
        "import pandas as pd"
      ]
    },
    {
      "cell_type": "markdown",
      "source": [
        "**Esercizio 1**\n",
        "\n",
        "*Un gruppo di amici ha trascorso il ponte di sant'Ambrogio presso una famosa località sciistica e hanno voluto creare una cassa comune in cui mettere, al bisogno, i soldi da utilizzare per tutte le spese (vitto, alloggio, trasporti, impianti sciistici, ...). In particolare, i contributi dei vari amici sono stati i seguenti*:\n",
        "\n",
        "* Aldo ha contribuito diverse volte, versando **10€, 20€, 40€, 100€ e 5€**\n",
        "* Anche Gianni ha contribuito diverse volte, versando **50€, 50€, 25€ e 30€**\n",
        "* Andrea ha dato due soli contributi, versando **200€ e 150€**\n",
        "* Miki infine ha versato molto spesso poche cifre: **5€, 5€, 10€, 15€, 5€, 5€, 10€, 5€ e 20€**\n",
        "\n",
        "Scegliere una struttura dati (una sola) che possa contenere tutte le informazioni e chiamarla \"cassaComune\".\n",
        "Utilizzare poi questa struttura dati e scrivere il codice per estrarre le seguenti informazioni\n",
        "\n",
        "1. Gli ultimi due versamenti di ogni amico: Visualizzare in nome e i versamenti\n",
        "2. Il totale versato da ogni amico: Visualizzare il nome e il totale\n",
        "3. L'amico che ha persato di più\n",
        "4. dato il nome di un amico, inserito dall'utente, visualizzare i suoi versamenti a partire dal minore fino al maggiore. Controllare che il nome dell'amico sia presente, altrimenti dare un messaggio di errore opportuno\n",
        "5. Andrea ha ottenuto un rimborso premio delle sue spese: Eliminarlo dalla struttura dati"
      ],
      "metadata": {
        "id": "1iIbQwmuFB5h"
      }
    },
    {
      "cell_type": "code",
      "source": [
        "cassaComune = [\n",
        "    {\n",
        "        \"Nome\": \"Aldo\",\n",
        "        \"Versamenti\": [10, 20, 40, 100, 5]\n",
        "    },\n",
        "\n",
        "    {\n",
        "        \"Nome\": \"Gianni\",\n",
        "        \"Versamenti\": [50, 50, 25, 30]\n",
        "    },\n",
        "\n",
        "    {\n",
        "        \"Nome\": \"Andrea\",\n",
        "        \"Versamenti\": [200, 150]\n",
        "    },\n",
        "\n",
        "    {\n",
        "        \"Nome\": \"Miki\",\n",
        "        \"Versamenti\": [5, 5, 10, 15, 5, 5, 10, 5, 20]\n",
        "    }\n",
        "]"
      ],
      "metadata": {
        "id": "KuQUZClEFFJh"
      },
      "execution_count": null,
      "outputs": []
    },
    {
      "cell_type": "code",
      "source": [
        "for compagno in cassaComune:\n",
        "  print(\"Gli ultimi due versamenti di \" + compagno[\"Nome\"] + \" sono di: \" + str(compagno[\"Versamenti\"][-2:]))"
      ],
      "metadata": {
        "colab": {
          "base_uri": "https://localhost:8080/"
        },
        "id": "pCyznJUQIbXs",
        "outputId": "d74d33b1-9683-4207-f058-47ece11c738e"
      },
      "execution_count": null,
      "outputs": [
        {
          "output_type": "stream",
          "name": "stdout",
          "text": [
            "Gli ultimi due versamenti di Aldo sono di: [100, 5]\n",
            "Gli ultimi due versamenti di Gianni sono di: [25, 30]\n",
            "Gli ultimi due versamenti di Andrea sono di: [200, 150]\n",
            "Gli ultimi due versamenti di Miki sono di: [5, 20]\n"
          ]
        }
      ]
    },
    {
      "cell_type": "code",
      "source": [
        "for compagno in cassaComune:\n",
        "  print(\"I versamenti totali di \" + compagno[\"Nome\"] + \" sono di: \" + str(sum(compagno[\"Versamenti\"])))"
      ],
      "metadata": {
        "colab": {
          "base_uri": "https://localhost:8080/"
        },
        "id": "fRC0X_dRIcVS",
        "outputId": "4b33081a-03a3-4524-efe5-043ae7674c5d"
      },
      "execution_count": null,
      "outputs": [
        {
          "output_type": "stream",
          "name": "stdout",
          "text": [
            "I versamenti totali di Aldo sono di: 175\n",
            "I versamenti totali di Gianni sono di: 155\n",
            "I versamenti totali di Andrea sono di: 350\n",
            "I versamenti totali di Miki sono di: 80\n"
          ]
        }
      ]
    },
    {
      "cell_type": "code",
      "source": [
        "max_sum = max([sum(d[\"Versamenti\"]) for d in cassaComune])\n",
        "for compagno in cassaComune:\n",
        "  if sum(compagno['Versamenti']) == max_sum:\n",
        "    print(\"Il compagno che ha versato di più è \" + compagno[\"Nome\"])"
      ],
      "metadata": {
        "colab": {
          "base_uri": "https://localhost:8080/"
        },
        "id": "56KKsrpDItR9",
        "outputId": "74778275-a8fd-4934-ccae-8b9118b6e773"
      },
      "execution_count": null,
      "outputs": [
        {
          "output_type": "stream",
          "name": "stdout",
          "text": [
            "Il compagno che ha versato di più è Andrea\n"
          ]
        }
      ]
    },
    {
      "cell_type": "code",
      "source": [
        "nomeInput = input(\"Inserire il nome di una persona per vedere i suoi versamenti: \")\n",
        "\n",
        "found = False\n",
        "index = 0\n",
        "\n",
        "# for d in cassaComune:\n",
        "#   if nomeInput == d['Nome']:\n",
        "#     print(sorted(d[\"Versamenti\"]))\n",
        "#     found = True\n",
        "# if found == False:\n",
        "#   print(nomeInput + \" non è stato trovato!\")\n",
        "while found==False and index < len(cassaComune):\n",
        "  if nomeInput == cassaComune[index][\"Nome\"]:\n",
        "    print(sorted(cassaComune[index][\"Versamenti\"]))\n",
        "    found = True\n",
        "  index += 1\n",
        "if found == False:\n",
        "  print(nomeInput + \" non è stato trovato\")"
      ],
      "metadata": {
        "colab": {
          "base_uri": "https://localhost:8080/"
        },
        "id": "5aWLIZosMaYD",
        "outputId": "c48eaa21-db42-4474-90a9-1aaaa6bf6de1"
      },
      "execution_count": null,
      "outputs": [
        {
          "output_type": "stream",
          "name": "stdout",
          "text": [
            "Inserire il nome di una persona per vedere i suoi versamenti: Miki\n",
            "[5, 5, 5, 5, 5, 10, 10, 15, 20]\n"
          ]
        }
      ]
    },
    {
      "cell_type": "code",
      "source": [
        "for d in cassaComune:\n",
        "  if d[\"Nome\"] == \"Andrea\":\n",
        "    cassaComune.remove(d)\n",
        "print(cassaComune)"
      ],
      "metadata": {
        "colab": {
          "base_uri": "https://localhost:8080/"
        },
        "id": "RaNGr3s0P0Lh",
        "outputId": "2cd303f4-1bd6-4206-d061-f4b5cf71805a"
      },
      "execution_count": null,
      "outputs": [
        {
          "output_type": "stream",
          "name": "stdout",
          "text": [
            "[{'Nome': 'Aldo', 'Versamenti': [10, 20, 40, 100, 5]}, {'Nome': 'Gianni', 'Versamenti': [50, 50, 25, 30]}, {'Nome': 'Miki', 'Versamenti': [5, 5, 10, 15, 5, 5, 10, 5, 20]}]\n"
          ]
        }
      ]
    },
    {
      "cell_type": "markdown",
      "source": [
        "**Esercizio 2**\n",
        "\n",
        "1. Utilizzare la lista comprehension per caricare una lista con 100 numeri casuali compresi tra 1 e 20 (estremi inclusi)\n",
        "2. Scrivere il codice per caricare in una opportuna struttura dati (una sola struttura dati) il numero di volte che ogni numero si ripete. Ad esempio se la lista contenesse [4, 5, 4, 2, 4, 5] bisognerebbe memorizzre nella struttura dati il fatto che il 4 si repete tre volte, il 5 due volte, il 2 una volta sola. Chiamare la struttura dati \"ripetizioni\"\n",
        "3. Visualizzare l'elenco dei numeri della struttura dati nella forma numero - numeroRipetizioni ordinandolo sul numero.\n",
        "4. Visualizzare l'elenco precedente ordinandolo in ordine decrescente sul numero di ripetizioni"
      ],
      "metadata": {
        "id": "g9SEKfPtQ0p5"
      }
    },
    {
      "cell_type": "code",
      "source": [
        "import random\n",
        "lista = [random.randint(1, 20) for num in range(100)]\n",
        "\n",
        "print(lista)"
      ],
      "metadata": {
        "colab": {
          "base_uri": "https://localhost:8080/"
        },
        "id": "2d8oJO77RRJh",
        "outputId": "a85bec7f-94b8-435a-ba82-c5ddd9697f41"
      },
      "execution_count": null,
      "outputs": [
        {
          "output_type": "stream",
          "name": "stdout",
          "text": [
            "[4, 14, 3, 17, 3, 20, 6, 15, 12, 3, 9, 10, 2, 2, 4, 19, 16, 12, 15, 6, 9, 12, 13, 19, 18, 18, 11, 5, 4, 19, 6, 4, 7, 16, 1, 7, 14, 7, 4, 17, 1, 11, 12, 19, 12, 17, 2, 6, 19, 3, 19, 19, 20, 18, 18, 19, 2, 1, 20, 9, 14, 6, 13, 18, 14, 19, 3, 13, 8, 14, 5, 7, 20, 16, 5, 16, 12, 19, 20, 13, 12, 12, 19, 11, 8, 13, 17, 14, 10, 4, 10, 15, 6, 3, 13, 2, 5, 8, 12, 10]\n"
          ]
        }
      ]
    },
    {
      "cell_type": "code",
      "source": [
        "ripetizioni = {}\n",
        "\n",
        "for numero in lista:\n",
        "  if numero in ripetizioni:\n",
        "    ripetizioni[numero] += 1\n",
        "  else:\n",
        "    ripetizioni[numero] = 1\n",
        "print(ripetizioni)"
      ],
      "metadata": {
        "colab": {
          "base_uri": "https://localhost:8080/"
        },
        "id": "z_79857kRoyt",
        "outputId": "7c88af44-b38a-4153-8de7-90577a41a88c"
      },
      "execution_count": null,
      "outputs": [
        {
          "output_type": "stream",
          "name": "stdout",
          "text": [
            "{4: 6, 14: 6, 3: 6, 17: 4, 20: 5, 6: 6, 15: 3, 12: 9, 9: 3, 10: 4, 2: 5, 19: 11, 16: 4, 13: 6, 18: 5, 11: 3, 5: 4, 7: 4, 1: 3, 8: 3}\n"
          ]
        }
      ]
    },
    {
      "cell_type": "code",
      "source": [
        "for key, value in sorted(ripetizioni.items()):\n",
        "  print(f\"{key} - {value}\")"
      ],
      "metadata": {
        "colab": {
          "base_uri": "https://localhost:8080/"
        },
        "id": "rZ-TZZqPSswt",
        "outputId": "a5600992-fac1-4b56-c63a-7d9399a12dac"
      },
      "execution_count": null,
      "outputs": [
        {
          "output_type": "stream",
          "name": "stdout",
          "text": [
            "1 - 3\n",
            "2 - 5\n",
            "3 - 6\n",
            "4 - 6\n",
            "5 - 4\n",
            "6 - 6\n",
            "7 - 4\n",
            "8 - 3\n",
            "9 - 3\n",
            "10 - 4\n",
            "11 - 3\n",
            "12 - 9\n",
            "13 - 6\n",
            "14 - 6\n",
            "15 - 3\n",
            "16 - 4\n",
            "17 - 4\n",
            "18 - 5\n",
            "19 - 11\n",
            "20 - 5\n"
          ]
        }
      ]
    },
    {
      "cell_type": "code",
      "source": [
        "numbers = [f\"{n1} - {n2}\" for n1, n2 in sorted(ripetizioni.items())] # Non sapevo si potessere formattare le stringhe con la list comprehension\n",
        "numbers.sort(key=lambda x: x[1], reverse=True) # <-- Ri-ordino la lista tramite il conto in ordine decrescente\n",
        "print(numbers)"
      ],
      "metadata": {
        "colab": {
          "base_uri": "https://localhost:8080/"
        },
        "id": "A64AfuHTTIGm",
        "outputId": "97abf4b3-a502-48bb-a829-3eb12c5d0d85"
      },
      "execution_count": null,
      "outputs": [
        {
          "output_type": "stream",
          "name": "stdout",
          "text": [
            "['19 - 11', '18 - 5', '17 - 4', '16 - 4', '15 - 3', '14 - 6', '13 - 6', '12 - 9', '11 - 3', '10 - 4', '20 - 5', '1 - 3', '2 - 5', '3 - 6', '4 - 6', '5 - 4', '6 - 6', '7 - 4', '8 - 3', '9 - 3']\n"
          ]
        }
      ]
    },
    {
      "cell_type": "markdown",
      "source": [
        "**Esercizio 3**\n",
        "\n",
        "Aprire tutti i file allegati al post della verifica su Classroom e cercare quello che contiene le informazioni sui linguaggi di programmazione che sono stati inventati nel corso degli anni. Scrivere poi le istruzioni per linguaggi di programmazione che sono stati inventati nel corso degli anni. Scrivere poi le istruzioni per\n",
        "\n",
        "1. Caricare il dataset nel proprio drive nella cartella colab notebooks. caricare poi i dati in un dataframe di Pandas\n",
        "\n",
        "2. Visualizzare in due modi gli ultimi 10 record\n",
        "\n",
        "3. Visualizzare la seconda e la terza colonna delle righe dalla 200 alla 210 (comprese)\n",
        "4. Visualizzare i 10 record centrali. fare in modo che il codice possa funzionare anche se dovesse cambiare la lunghezza del dataframe\n",
        "5. visualizzare il numero di linguaggi di programmazione di cui non si conosce il predecessore\n",
        "6. Visualizzare i lingauggi di programmazione che hanno la parola Pascal nel nome\n",
        "7. visualizzare i linguaggi di programmazione che hanno la parola C++ nel nome\n",
        "8. visualizzare gli anni in cui sono stati inventati più di 5 linguaggi di programmazione\n",
        "9. rappresentare i dati dell'esercizio precedente con un grafico a barre orizzontali, specificando bene titolo, assi e legenda. Dare colori diversi alle barre."
      ],
      "metadata": {
        "id": "5K0rC-jJVj1S"
      }
    },
    {
      "cell_type": "code",
      "source": [
        "from google.colab import drive\n",
        "drive.mount('/content/drive')"
      ],
      "metadata": {
        "colab": {
          "base_uri": "https://localhost:8080/"
        },
        "id": "Gd7tFPhSWTWa",
        "outputId": "187c1dbe-a5e0-409b-bff5-cf975eed4e98"
      },
      "execution_count": null,
      "outputs": [
        {
          "output_type": "stream",
          "name": "stdout",
          "text": [
            "Mounted at /content/drive\n"
          ]
        }
      ]
    },
    {
      "cell_type": "code",
      "source": [],
      "metadata": {
        "id": "DC55I5pbp5lM"
      },
      "execution_count": null,
      "outputs": []
    },
    {
      "cell_type": "code",
      "source": [
        "df = pd.read_csv(\"/content/drive/MyDrive/Colab Notebooks/df_3.csv\")\n",
        "\n",
        "# I due metodi sono:\n",
        "df.tail(10)\n",
        "df.iloc[-10:]"
      ],
      "metadata": {
        "colab": {
          "base_uri": "https://localhost:8080/",
          "height": 363
        },
        "id": "x3vigD02WtA9",
        "outputId": "4b97bca5-5127-4aa2-8b8c-28576e41f3aa"
      },
      "execution_count": null,
      "outputs": [
        {
          "output_type": "execute_result",
          "data": {
            "text/plain": [
              "     Year                Name  \\\n",
              "384  2016                Ring   \n",
              "385  2017               C++17   \n",
              "386  2017           Ballerina   \n",
              "387  2017                  Q#   \n",
              "388  2018                 C17   \n",
              "389  2018        Fortran 2018   \n",
              "390  2019              Bosque   \n",
              "391  2020               C++20   \n",
              "392  2021  Microsoft Power Fx   \n",
              "393  2022              Carbon   \n",
              "\n",
              "                              Chief developer, company  \\\n",
              "384                                Mahmoud Samir Fayed   \n",
              "385                             C++ ISO/IEC 14882:2017   \n",
              "386                                  WSO2, Open Source   \n",
              "387                                          Microsoft   \n",
              "388                                  ISO/IEC 9899:2018   \n",
              "389                   ISO/IEC JTC1/SC22/WG5 N2150:2018   \n",
              "390                             Mark Marron, Microsoft   \n",
              "391                             C++ ISO/IEC 14882:2020   \n",
              "392  Vijay Mital, Robin Abraham, Shon Katzenberger,...   \n",
              "393                                             Google   \n",
              "\n",
              "                                        Predecessor(s)  \n",
              "384  Lua, Python, Ruby, C, C#, BASIC, QML, xBase, S...  \n",
              "385                                 C++, Standard C, C  \n",
              "386                     Java, Javascript, Go, Rust, C#  \n",
              "387                                     C#, F#, Python  \n",
              "388                                                C11  \n",
              "389                                       Fortran 2008  \n",
              "390                         JavaScript, TypeScript, ML  \n",
              "391                                 C++, Standard C, C  \n",
              "392                                     Excel formulas  \n",
              "393                                          C++, Rust  "
            ],
            "text/html": [
              "\n",
              "  <div id=\"df-81d8ef0b-9fc4-4b28-ba09-ff0e531ee7fa\">\n",
              "    <div class=\"colab-df-container\">\n",
              "      <div>\n",
              "<style scoped>\n",
              "    .dataframe tbody tr th:only-of-type {\n",
              "        vertical-align: middle;\n",
              "    }\n",
              "\n",
              "    .dataframe tbody tr th {\n",
              "        vertical-align: top;\n",
              "    }\n",
              "\n",
              "    .dataframe thead th {\n",
              "        text-align: right;\n",
              "    }\n",
              "</style>\n",
              "<table border=\"1\" class=\"dataframe\">\n",
              "  <thead>\n",
              "    <tr style=\"text-align: right;\">\n",
              "      <th></th>\n",
              "      <th>Year</th>\n",
              "      <th>Name</th>\n",
              "      <th>Chief developer, company</th>\n",
              "      <th>Predecessor(s)</th>\n",
              "    </tr>\n",
              "  </thead>\n",
              "  <tbody>\n",
              "    <tr>\n",
              "      <th>384</th>\n",
              "      <td>2016</td>\n",
              "      <td>Ring</td>\n",
              "      <td>Mahmoud Samir Fayed</td>\n",
              "      <td>Lua, Python, Ruby, C, C#, BASIC, QML, xBase, S...</td>\n",
              "    </tr>\n",
              "    <tr>\n",
              "      <th>385</th>\n",
              "      <td>2017</td>\n",
              "      <td>C++17</td>\n",
              "      <td>C++ ISO/IEC 14882:2017</td>\n",
              "      <td>C++, Standard C, C</td>\n",
              "    </tr>\n",
              "    <tr>\n",
              "      <th>386</th>\n",
              "      <td>2017</td>\n",
              "      <td>Ballerina</td>\n",
              "      <td>WSO2, Open Source</td>\n",
              "      <td>Java, Javascript, Go, Rust, C#</td>\n",
              "    </tr>\n",
              "    <tr>\n",
              "      <th>387</th>\n",
              "      <td>2017</td>\n",
              "      <td>Q#</td>\n",
              "      <td>Microsoft</td>\n",
              "      <td>C#, F#, Python</td>\n",
              "    </tr>\n",
              "    <tr>\n",
              "      <th>388</th>\n",
              "      <td>2018</td>\n",
              "      <td>C17</td>\n",
              "      <td>ISO/IEC 9899:2018</td>\n",
              "      <td>C11</td>\n",
              "    </tr>\n",
              "    <tr>\n",
              "      <th>389</th>\n",
              "      <td>2018</td>\n",
              "      <td>Fortran 2018</td>\n",
              "      <td>ISO/IEC JTC1/SC22/WG5 N2150:2018</td>\n",
              "      <td>Fortran 2008</td>\n",
              "    </tr>\n",
              "    <tr>\n",
              "      <th>390</th>\n",
              "      <td>2019</td>\n",
              "      <td>Bosque</td>\n",
              "      <td>Mark Marron, Microsoft</td>\n",
              "      <td>JavaScript, TypeScript, ML</td>\n",
              "    </tr>\n",
              "    <tr>\n",
              "      <th>391</th>\n",
              "      <td>2020</td>\n",
              "      <td>C++20</td>\n",
              "      <td>C++ ISO/IEC 14882:2020</td>\n",
              "      <td>C++, Standard C, C</td>\n",
              "    </tr>\n",
              "    <tr>\n",
              "      <th>392</th>\n",
              "      <td>2021</td>\n",
              "      <td>Microsoft Power Fx</td>\n",
              "      <td>Vijay Mital, Robin Abraham, Shon Katzenberger,...</td>\n",
              "      <td>Excel formulas</td>\n",
              "    </tr>\n",
              "    <tr>\n",
              "      <th>393</th>\n",
              "      <td>2022</td>\n",
              "      <td>Carbon</td>\n",
              "      <td>Google</td>\n",
              "      <td>C++, Rust</td>\n",
              "    </tr>\n",
              "  </tbody>\n",
              "</table>\n",
              "</div>\n",
              "      <button class=\"colab-df-convert\" onclick=\"convertToInteractive('df-81d8ef0b-9fc4-4b28-ba09-ff0e531ee7fa')\"\n",
              "              title=\"Convert this dataframe to an interactive table.\"\n",
              "              style=\"display:none;\">\n",
              "        \n",
              "  <svg xmlns=\"http://www.w3.org/2000/svg\" height=\"24px\"viewBox=\"0 0 24 24\"\n",
              "       width=\"24px\">\n",
              "    <path d=\"M0 0h24v24H0V0z\" fill=\"none\"/>\n",
              "    <path d=\"M18.56 5.44l.94 2.06.94-2.06 2.06-.94-2.06-.94-.94-2.06-.94 2.06-2.06.94zm-11 1L8.5 8.5l.94-2.06 2.06-.94-2.06-.94L8.5 2.5l-.94 2.06-2.06.94zm10 10l.94 2.06.94-2.06 2.06-.94-2.06-.94-.94-2.06-.94 2.06-2.06.94z\"/><path d=\"M17.41 7.96l-1.37-1.37c-.4-.4-.92-.59-1.43-.59-.52 0-1.04.2-1.43.59L10.3 9.45l-7.72 7.72c-.78.78-.78 2.05 0 2.83L4 21.41c.39.39.9.59 1.41.59.51 0 1.02-.2 1.41-.59l7.78-7.78 2.81-2.81c.8-.78.8-2.07 0-2.86zM5.41 20L4 18.59l7.72-7.72 1.47 1.35L5.41 20z\"/>\n",
              "  </svg>\n",
              "      </button>\n",
              "      \n",
              "  <style>\n",
              "    .colab-df-container {\n",
              "      display:flex;\n",
              "      flex-wrap:wrap;\n",
              "      gap: 12px;\n",
              "    }\n",
              "\n",
              "    .colab-df-convert {\n",
              "      background-color: #E8F0FE;\n",
              "      border: none;\n",
              "      border-radius: 50%;\n",
              "      cursor: pointer;\n",
              "      display: none;\n",
              "      fill: #1967D2;\n",
              "      height: 32px;\n",
              "      padding: 0 0 0 0;\n",
              "      width: 32px;\n",
              "    }\n",
              "\n",
              "    .colab-df-convert:hover {\n",
              "      background-color: #E2EBFA;\n",
              "      box-shadow: 0px 1px 2px rgba(60, 64, 67, 0.3), 0px 1px 3px 1px rgba(60, 64, 67, 0.15);\n",
              "      fill: #174EA6;\n",
              "    }\n",
              "\n",
              "    [theme=dark] .colab-df-convert {\n",
              "      background-color: #3B4455;\n",
              "      fill: #D2E3FC;\n",
              "    }\n",
              "\n",
              "    [theme=dark] .colab-df-convert:hover {\n",
              "      background-color: #434B5C;\n",
              "      box-shadow: 0px 1px 3px 1px rgba(0, 0, 0, 0.15);\n",
              "      filter: drop-shadow(0px 1px 2px rgba(0, 0, 0, 0.3));\n",
              "      fill: #FFFFFF;\n",
              "    }\n",
              "  </style>\n",
              "\n",
              "      <script>\n",
              "        const buttonEl =\n",
              "          document.querySelector('#df-81d8ef0b-9fc4-4b28-ba09-ff0e531ee7fa button.colab-df-convert');\n",
              "        buttonEl.style.display =\n",
              "          google.colab.kernel.accessAllowed ? 'block' : 'none';\n",
              "\n",
              "        async function convertToInteractive(key) {\n",
              "          const element = document.querySelector('#df-81d8ef0b-9fc4-4b28-ba09-ff0e531ee7fa');\n",
              "          const dataTable =\n",
              "            await google.colab.kernel.invokeFunction('convertToInteractive',\n",
              "                                                     [key], {});\n",
              "          if (!dataTable) return;\n",
              "\n",
              "          const docLinkHtml = 'Like what you see? Visit the ' +\n",
              "            '<a target=\"_blank\" href=https://colab.research.google.com/notebooks/data_table.ipynb>data table notebook</a>'\n",
              "            + ' to learn more about interactive tables.';\n",
              "          element.innerHTML = '';\n",
              "          dataTable['output_type'] = 'display_data';\n",
              "          await google.colab.output.renderOutput(dataTable, element);\n",
              "          const docLink = document.createElement('div');\n",
              "          docLink.innerHTML = docLinkHtml;\n",
              "          element.appendChild(docLink);\n",
              "        }\n",
              "      </script>\n",
              "    </div>\n",
              "  </div>\n",
              "  "
            ]
          },
          "metadata": {},
          "execution_count": 14
        }
      ]
    },
    {
      "cell_type": "code",
      "source": [
        "df.iloc[200:211, 1:3]"
      ],
      "metadata": {
        "colab": {
          "base_uri": "https://localhost:8080/",
          "height": 394
        },
        "id": "qaskqU6jYH-F",
        "outputId": "fbd53ac9-d2c9-40b7-fdde-1c84be571672"
      },
      "execution_count": null,
      "outputs": [
        {
          "output_type": "execute_result",
          "data": {
            "text/plain": [
              "                  Name              Chief developer, company\n",
              "200             Eiffel                        Bertrand Meyer\n",
              "201          GFA BASIC                       Frank Ostrowski\n",
              "202       Informix-4GL                              Informix\n",
              "203            LabVIEW                  National Instruments\n",
              "204            Miranda    David Turner at University of Kent\n",
              "205      Object Pascal                        Apple Computer\n",
              "206             PROMAL                                   NaN\n",
              "207             Erlang  Joe Armstrong and others in Ericsson\n",
              "208  Ada ISO 8652:1987          ANSI/MIL-STD-1815A unchanged\n",
              "209     Self (concept)                 Sun Microsystems Inc.\n",
              "210            occam 2                   David May and INMOS"
            ],
            "text/html": [
              "\n",
              "  <div id=\"df-f9fb9a0c-8812-4c57-84dc-62265266695b\">\n",
              "    <div class=\"colab-df-container\">\n",
              "      <div>\n",
              "<style scoped>\n",
              "    .dataframe tbody tr th:only-of-type {\n",
              "        vertical-align: middle;\n",
              "    }\n",
              "\n",
              "    .dataframe tbody tr th {\n",
              "        vertical-align: top;\n",
              "    }\n",
              "\n",
              "    .dataframe thead th {\n",
              "        text-align: right;\n",
              "    }\n",
              "</style>\n",
              "<table border=\"1\" class=\"dataframe\">\n",
              "  <thead>\n",
              "    <tr style=\"text-align: right;\">\n",
              "      <th></th>\n",
              "      <th>Name</th>\n",
              "      <th>Chief developer, company</th>\n",
              "    </tr>\n",
              "  </thead>\n",
              "  <tbody>\n",
              "    <tr>\n",
              "      <th>200</th>\n",
              "      <td>Eiffel</td>\n",
              "      <td>Bertrand Meyer</td>\n",
              "    </tr>\n",
              "    <tr>\n",
              "      <th>201</th>\n",
              "      <td>GFA BASIC</td>\n",
              "      <td>Frank Ostrowski</td>\n",
              "    </tr>\n",
              "    <tr>\n",
              "      <th>202</th>\n",
              "      <td>Informix-4GL</td>\n",
              "      <td>Informix</td>\n",
              "    </tr>\n",
              "    <tr>\n",
              "      <th>203</th>\n",
              "      <td>LabVIEW</td>\n",
              "      <td>National Instruments</td>\n",
              "    </tr>\n",
              "    <tr>\n",
              "      <th>204</th>\n",
              "      <td>Miranda</td>\n",
              "      <td>David Turner at University of Kent</td>\n",
              "    </tr>\n",
              "    <tr>\n",
              "      <th>205</th>\n",
              "      <td>Object Pascal</td>\n",
              "      <td>Apple Computer</td>\n",
              "    </tr>\n",
              "    <tr>\n",
              "      <th>206</th>\n",
              "      <td>PROMAL</td>\n",
              "      <td>NaN</td>\n",
              "    </tr>\n",
              "    <tr>\n",
              "      <th>207</th>\n",
              "      <td>Erlang</td>\n",
              "      <td>Joe Armstrong and others in Ericsson</td>\n",
              "    </tr>\n",
              "    <tr>\n",
              "      <th>208</th>\n",
              "      <td>Ada ISO 8652:1987</td>\n",
              "      <td>ANSI/MIL-STD-1815A unchanged</td>\n",
              "    </tr>\n",
              "    <tr>\n",
              "      <th>209</th>\n",
              "      <td>Self (concept)</td>\n",
              "      <td>Sun Microsystems Inc.</td>\n",
              "    </tr>\n",
              "    <tr>\n",
              "      <th>210</th>\n",
              "      <td>occam 2</td>\n",
              "      <td>David May and INMOS</td>\n",
              "    </tr>\n",
              "  </tbody>\n",
              "</table>\n",
              "</div>\n",
              "      <button class=\"colab-df-convert\" onclick=\"convertToInteractive('df-f9fb9a0c-8812-4c57-84dc-62265266695b')\"\n",
              "              title=\"Convert this dataframe to an interactive table.\"\n",
              "              style=\"display:none;\">\n",
              "        \n",
              "  <svg xmlns=\"http://www.w3.org/2000/svg\" height=\"24px\"viewBox=\"0 0 24 24\"\n",
              "       width=\"24px\">\n",
              "    <path d=\"M0 0h24v24H0V0z\" fill=\"none\"/>\n",
              "    <path d=\"M18.56 5.44l.94 2.06.94-2.06 2.06-.94-2.06-.94-.94-2.06-.94 2.06-2.06.94zm-11 1L8.5 8.5l.94-2.06 2.06-.94-2.06-.94L8.5 2.5l-.94 2.06-2.06.94zm10 10l.94 2.06.94-2.06 2.06-.94-2.06-.94-.94-2.06-.94 2.06-2.06.94z\"/><path d=\"M17.41 7.96l-1.37-1.37c-.4-.4-.92-.59-1.43-.59-.52 0-1.04.2-1.43.59L10.3 9.45l-7.72 7.72c-.78.78-.78 2.05 0 2.83L4 21.41c.39.39.9.59 1.41.59.51 0 1.02-.2 1.41-.59l7.78-7.78 2.81-2.81c.8-.78.8-2.07 0-2.86zM5.41 20L4 18.59l7.72-7.72 1.47 1.35L5.41 20z\"/>\n",
              "  </svg>\n",
              "      </button>\n",
              "      \n",
              "  <style>\n",
              "    .colab-df-container {\n",
              "      display:flex;\n",
              "      flex-wrap:wrap;\n",
              "      gap: 12px;\n",
              "    }\n",
              "\n",
              "    .colab-df-convert {\n",
              "      background-color: #E8F0FE;\n",
              "      border: none;\n",
              "      border-radius: 50%;\n",
              "      cursor: pointer;\n",
              "      display: none;\n",
              "      fill: #1967D2;\n",
              "      height: 32px;\n",
              "      padding: 0 0 0 0;\n",
              "      width: 32px;\n",
              "    }\n",
              "\n",
              "    .colab-df-convert:hover {\n",
              "      background-color: #E2EBFA;\n",
              "      box-shadow: 0px 1px 2px rgba(60, 64, 67, 0.3), 0px 1px 3px 1px rgba(60, 64, 67, 0.15);\n",
              "      fill: #174EA6;\n",
              "    }\n",
              "\n",
              "    [theme=dark] .colab-df-convert {\n",
              "      background-color: #3B4455;\n",
              "      fill: #D2E3FC;\n",
              "    }\n",
              "\n",
              "    [theme=dark] .colab-df-convert:hover {\n",
              "      background-color: #434B5C;\n",
              "      box-shadow: 0px 1px 3px 1px rgba(0, 0, 0, 0.15);\n",
              "      filter: drop-shadow(0px 1px 2px rgba(0, 0, 0, 0.3));\n",
              "      fill: #FFFFFF;\n",
              "    }\n",
              "  </style>\n",
              "\n",
              "      <script>\n",
              "        const buttonEl =\n",
              "          document.querySelector('#df-f9fb9a0c-8812-4c57-84dc-62265266695b button.colab-df-convert');\n",
              "        buttonEl.style.display =\n",
              "          google.colab.kernel.accessAllowed ? 'block' : 'none';\n",
              "\n",
              "        async function convertToInteractive(key) {\n",
              "          const element = document.querySelector('#df-f9fb9a0c-8812-4c57-84dc-62265266695b');\n",
              "          const dataTable =\n",
              "            await google.colab.kernel.invokeFunction('convertToInteractive',\n",
              "                                                     [key], {});\n",
              "          if (!dataTable) return;\n",
              "\n",
              "          const docLinkHtml = 'Like what you see? Visit the ' +\n",
              "            '<a target=\"_blank\" href=https://colab.research.google.com/notebooks/data_table.ipynb>data table notebook</a>'\n",
              "            + ' to learn more about interactive tables.';\n",
              "          element.innerHTML = '';\n",
              "          dataTable['output_type'] = 'display_data';\n",
              "          await google.colab.output.renderOutput(dataTable, element);\n",
              "          const docLink = document.createElement('div');\n",
              "          docLink.innerHTML = docLinkHtml;\n",
              "          element.appendChild(docLink);\n",
              "        }\n",
              "      </script>\n",
              "    </div>\n",
              "  </div>\n",
              "  "
            ]
          },
          "metadata": {},
          "execution_count": 15
        }
      ]
    },
    {
      "cell_type": "code",
      "source": [
        "index_centrale = df.index[int(len(df) / 2)]\n",
        "\n",
        "df.iloc[index_centrale - 5:index_centrale + 5]"
      ],
      "metadata": {
        "colab": {
          "base_uri": "https://localhost:8080/",
          "height": 363
        },
        "id": "1i6Cp0QUYqeH",
        "outputId": "58c96c9d-a238-4c47-8021-6a870660b272"
      },
      "execution_count": null,
      "outputs": [
        {
          "output_type": "execute_result",
          "data": {
            "text/plain": [
              "     Year         Name          Chief developer, company  Predecessor(s)\n",
              "192  1984          RPL                   Hewlett-Packard     Forth, Lisp\n",
              "193  1984  Standard ML                               NaN              ML\n",
              "194  1984      Redcode  Alexander Dewdney and D.G. Jones             NaN\n",
              "195  1984          OPL                             Psion           BASIC\n",
              "196  1985      PARADOX                           Borland           dBase\n",
              "197  1985   QuickBASIC                         Microsoft           BASIC\n",
              "198  1986      Clarion                  Bruce Barrington             NaN\n",
              "199  1986    CorVision                            Cortex          INFORM\n",
              "200  1986       Eiffel                    Bertrand Meyer  Simula 67, Ada\n",
              "201  1986    GFA BASIC                   Frank Ostrowski           BASIC"
            ],
            "text/html": [
              "\n",
              "  <div id=\"df-8251be33-e443-4b38-8bc3-0c65dcb1756b\">\n",
              "    <div class=\"colab-df-container\">\n",
              "      <div>\n",
              "<style scoped>\n",
              "    .dataframe tbody tr th:only-of-type {\n",
              "        vertical-align: middle;\n",
              "    }\n",
              "\n",
              "    .dataframe tbody tr th {\n",
              "        vertical-align: top;\n",
              "    }\n",
              "\n",
              "    .dataframe thead th {\n",
              "        text-align: right;\n",
              "    }\n",
              "</style>\n",
              "<table border=\"1\" class=\"dataframe\">\n",
              "  <thead>\n",
              "    <tr style=\"text-align: right;\">\n",
              "      <th></th>\n",
              "      <th>Year</th>\n",
              "      <th>Name</th>\n",
              "      <th>Chief developer, company</th>\n",
              "      <th>Predecessor(s)</th>\n",
              "    </tr>\n",
              "  </thead>\n",
              "  <tbody>\n",
              "    <tr>\n",
              "      <th>192</th>\n",
              "      <td>1984</td>\n",
              "      <td>RPL</td>\n",
              "      <td>Hewlett-Packard</td>\n",
              "      <td>Forth, Lisp</td>\n",
              "    </tr>\n",
              "    <tr>\n",
              "      <th>193</th>\n",
              "      <td>1984</td>\n",
              "      <td>Standard ML</td>\n",
              "      <td>NaN</td>\n",
              "      <td>ML</td>\n",
              "    </tr>\n",
              "    <tr>\n",
              "      <th>194</th>\n",
              "      <td>1984</td>\n",
              "      <td>Redcode</td>\n",
              "      <td>Alexander Dewdney and D.G. Jones</td>\n",
              "      <td>NaN</td>\n",
              "    </tr>\n",
              "    <tr>\n",
              "      <th>195</th>\n",
              "      <td>1984</td>\n",
              "      <td>OPL</td>\n",
              "      <td>Psion</td>\n",
              "      <td>BASIC</td>\n",
              "    </tr>\n",
              "    <tr>\n",
              "      <th>196</th>\n",
              "      <td>1985</td>\n",
              "      <td>PARADOX</td>\n",
              "      <td>Borland</td>\n",
              "      <td>dBase</td>\n",
              "    </tr>\n",
              "    <tr>\n",
              "      <th>197</th>\n",
              "      <td>1985</td>\n",
              "      <td>QuickBASIC</td>\n",
              "      <td>Microsoft</td>\n",
              "      <td>BASIC</td>\n",
              "    </tr>\n",
              "    <tr>\n",
              "      <th>198</th>\n",
              "      <td>1986</td>\n",
              "      <td>Clarion</td>\n",
              "      <td>Bruce Barrington</td>\n",
              "      <td>NaN</td>\n",
              "    </tr>\n",
              "    <tr>\n",
              "      <th>199</th>\n",
              "      <td>1986</td>\n",
              "      <td>CorVision</td>\n",
              "      <td>Cortex</td>\n",
              "      <td>INFORM</td>\n",
              "    </tr>\n",
              "    <tr>\n",
              "      <th>200</th>\n",
              "      <td>1986</td>\n",
              "      <td>Eiffel</td>\n",
              "      <td>Bertrand Meyer</td>\n",
              "      <td>Simula 67, Ada</td>\n",
              "    </tr>\n",
              "    <tr>\n",
              "      <th>201</th>\n",
              "      <td>1986</td>\n",
              "      <td>GFA BASIC</td>\n",
              "      <td>Frank Ostrowski</td>\n",
              "      <td>BASIC</td>\n",
              "    </tr>\n",
              "  </tbody>\n",
              "</table>\n",
              "</div>\n",
              "      <button class=\"colab-df-convert\" onclick=\"convertToInteractive('df-8251be33-e443-4b38-8bc3-0c65dcb1756b')\"\n",
              "              title=\"Convert this dataframe to an interactive table.\"\n",
              "              style=\"display:none;\">\n",
              "        \n",
              "  <svg xmlns=\"http://www.w3.org/2000/svg\" height=\"24px\"viewBox=\"0 0 24 24\"\n",
              "       width=\"24px\">\n",
              "    <path d=\"M0 0h24v24H0V0z\" fill=\"none\"/>\n",
              "    <path d=\"M18.56 5.44l.94 2.06.94-2.06 2.06-.94-2.06-.94-.94-2.06-.94 2.06-2.06.94zm-11 1L8.5 8.5l.94-2.06 2.06-.94-2.06-.94L8.5 2.5l-.94 2.06-2.06.94zm10 10l.94 2.06.94-2.06 2.06-.94-2.06-.94-.94-2.06-.94 2.06-2.06.94z\"/><path d=\"M17.41 7.96l-1.37-1.37c-.4-.4-.92-.59-1.43-.59-.52 0-1.04.2-1.43.59L10.3 9.45l-7.72 7.72c-.78.78-.78 2.05 0 2.83L4 21.41c.39.39.9.59 1.41.59.51 0 1.02-.2 1.41-.59l7.78-7.78 2.81-2.81c.8-.78.8-2.07 0-2.86zM5.41 20L4 18.59l7.72-7.72 1.47 1.35L5.41 20z\"/>\n",
              "  </svg>\n",
              "      </button>\n",
              "      \n",
              "  <style>\n",
              "    .colab-df-container {\n",
              "      display:flex;\n",
              "      flex-wrap:wrap;\n",
              "      gap: 12px;\n",
              "    }\n",
              "\n",
              "    .colab-df-convert {\n",
              "      background-color: #E8F0FE;\n",
              "      border: none;\n",
              "      border-radius: 50%;\n",
              "      cursor: pointer;\n",
              "      display: none;\n",
              "      fill: #1967D2;\n",
              "      height: 32px;\n",
              "      padding: 0 0 0 0;\n",
              "      width: 32px;\n",
              "    }\n",
              "\n",
              "    .colab-df-convert:hover {\n",
              "      background-color: #E2EBFA;\n",
              "      box-shadow: 0px 1px 2px rgba(60, 64, 67, 0.3), 0px 1px 3px 1px rgba(60, 64, 67, 0.15);\n",
              "      fill: #174EA6;\n",
              "    }\n",
              "\n",
              "    [theme=dark] .colab-df-convert {\n",
              "      background-color: #3B4455;\n",
              "      fill: #D2E3FC;\n",
              "    }\n",
              "\n",
              "    [theme=dark] .colab-df-convert:hover {\n",
              "      background-color: #434B5C;\n",
              "      box-shadow: 0px 1px 3px 1px rgba(0, 0, 0, 0.15);\n",
              "      filter: drop-shadow(0px 1px 2px rgba(0, 0, 0, 0.3));\n",
              "      fill: #FFFFFF;\n",
              "    }\n",
              "  </style>\n",
              "\n",
              "      <script>\n",
              "        const buttonEl =\n",
              "          document.querySelector('#df-8251be33-e443-4b38-8bc3-0c65dcb1756b button.colab-df-convert');\n",
              "        buttonEl.style.display =\n",
              "          google.colab.kernel.accessAllowed ? 'block' : 'none';\n",
              "\n",
              "        async function convertToInteractive(key) {\n",
              "          const element = document.querySelector('#df-8251be33-e443-4b38-8bc3-0c65dcb1756b');\n",
              "          const dataTable =\n",
              "            await google.colab.kernel.invokeFunction('convertToInteractive',\n",
              "                                                     [key], {});\n",
              "          if (!dataTable) return;\n",
              "\n",
              "          const docLinkHtml = 'Like what you see? Visit the ' +\n",
              "            '<a target=\"_blank\" href=https://colab.research.google.com/notebooks/data_table.ipynb>data table notebook</a>'\n",
              "            + ' to learn more about interactive tables.';\n",
              "          element.innerHTML = '';\n",
              "          dataTable['output_type'] = 'display_data';\n",
              "          await google.colab.output.renderOutput(dataTable, element);\n",
              "          const docLink = document.createElement('div');\n",
              "          docLink.innerHTML = docLinkHtml;\n",
              "          element.appendChild(docLink);\n",
              "        }\n",
              "      </script>\n",
              "    </div>\n",
              "  </div>\n",
              "  "
            ]
          },
          "metadata": {},
          "execution_count": 16
        }
      ]
    },
    {
      "cell_type": "code",
      "source": [
        "valori_nulli = df[\"Predecessor(s)\"].isna()\n",
        "numero_valori_nulli = sum(valori_nulli)\n",
        "\n",
        "print(numero_valori_nulli)"
      ],
      "metadata": {
        "colab": {
          "base_uri": "https://localhost:8080/"
        },
        "id": "RSQOOeR6ZVXF",
        "outputId": "68ac28fb-46a7-484e-b04f-a1350a8478f9"
      },
      "execution_count": null,
      "outputs": [
        {
          "output_type": "stream",
          "name": "stdout",
          "text": [
            "37\n"
          ]
        }
      ]
    },
    {
      "cell_type": "code",
      "source": [
        "df[df[\"Name\"].str.contains(\"Pascal\") == True]"
      ],
      "metadata": {
        "colab": {
          "base_uri": "https://localhost:8080/",
          "height": 237
        },
        "id": "X0qOLy9baC64",
        "outputId": "270aed16-d7a6-4799-892e-9d1863fd36af"
      },
      "execution_count": null,
      "outputs": [
        {
          "output_type": "execute_result",
          "data": {
            "text/plain": [
              "     Year              Name        Chief developer, company  \\\n",
              "111  1970            Pascal  Niklaus Wirth, Kathleen Jensen   \n",
              "180  1983      Turbo Pascal            Hejlsberg at Borland   \n",
              "205  1986     Object Pascal                  Apple Computer   \n",
              "226  1989  Turbo Pascal OOP     Anders Hejlsberg at Borland   \n",
              "249  1992    Borland Pascal                             NaN   \n",
              "285  1997  Component Pascal             Oberon Microsystems   \n",
              "\n",
              "                  Predecessor(s)  \n",
              "111            ALGOL 60, ALGOL W  \n",
              "180                       Pascal  \n",
              "205                       Pascal  \n",
              "226  Turbo Pascal, Object Pascal  \n",
              "249             Turbo Pascal OOP  \n",
              "285                     Oberon-2  "
            ],
            "text/html": [
              "\n",
              "  <div id=\"df-0923e051-0772-497e-8fa2-df921ba664e1\">\n",
              "    <div class=\"colab-df-container\">\n",
              "      <div>\n",
              "<style scoped>\n",
              "    .dataframe tbody tr th:only-of-type {\n",
              "        vertical-align: middle;\n",
              "    }\n",
              "\n",
              "    .dataframe tbody tr th {\n",
              "        vertical-align: top;\n",
              "    }\n",
              "\n",
              "    .dataframe thead th {\n",
              "        text-align: right;\n",
              "    }\n",
              "</style>\n",
              "<table border=\"1\" class=\"dataframe\">\n",
              "  <thead>\n",
              "    <tr style=\"text-align: right;\">\n",
              "      <th></th>\n",
              "      <th>Year</th>\n",
              "      <th>Name</th>\n",
              "      <th>Chief developer, company</th>\n",
              "      <th>Predecessor(s)</th>\n",
              "    </tr>\n",
              "  </thead>\n",
              "  <tbody>\n",
              "    <tr>\n",
              "      <th>111</th>\n",
              "      <td>1970</td>\n",
              "      <td>Pascal</td>\n",
              "      <td>Niklaus Wirth, Kathleen Jensen</td>\n",
              "      <td>ALGOL 60, ALGOL W</td>\n",
              "    </tr>\n",
              "    <tr>\n",
              "      <th>180</th>\n",
              "      <td>1983</td>\n",
              "      <td>Turbo Pascal</td>\n",
              "      <td>Hejlsberg at Borland</td>\n",
              "      <td>Pascal</td>\n",
              "    </tr>\n",
              "    <tr>\n",
              "      <th>205</th>\n",
              "      <td>1986</td>\n",
              "      <td>Object Pascal</td>\n",
              "      <td>Apple Computer</td>\n",
              "      <td>Pascal</td>\n",
              "    </tr>\n",
              "    <tr>\n",
              "      <th>226</th>\n",
              "      <td>1989</td>\n",
              "      <td>Turbo Pascal OOP</td>\n",
              "      <td>Anders Hejlsberg at Borland</td>\n",
              "      <td>Turbo Pascal, Object Pascal</td>\n",
              "    </tr>\n",
              "    <tr>\n",
              "      <th>249</th>\n",
              "      <td>1992</td>\n",
              "      <td>Borland Pascal</td>\n",
              "      <td>NaN</td>\n",
              "      <td>Turbo Pascal OOP</td>\n",
              "    </tr>\n",
              "    <tr>\n",
              "      <th>285</th>\n",
              "      <td>1997</td>\n",
              "      <td>Component Pascal</td>\n",
              "      <td>Oberon Microsystems</td>\n",
              "      <td>Oberon-2</td>\n",
              "    </tr>\n",
              "  </tbody>\n",
              "</table>\n",
              "</div>\n",
              "      <button class=\"colab-df-convert\" onclick=\"convertToInteractive('df-0923e051-0772-497e-8fa2-df921ba664e1')\"\n",
              "              title=\"Convert this dataframe to an interactive table.\"\n",
              "              style=\"display:none;\">\n",
              "        \n",
              "  <svg xmlns=\"http://www.w3.org/2000/svg\" height=\"24px\"viewBox=\"0 0 24 24\"\n",
              "       width=\"24px\">\n",
              "    <path d=\"M0 0h24v24H0V0z\" fill=\"none\"/>\n",
              "    <path d=\"M18.56 5.44l.94 2.06.94-2.06 2.06-.94-2.06-.94-.94-2.06-.94 2.06-2.06.94zm-11 1L8.5 8.5l.94-2.06 2.06-.94-2.06-.94L8.5 2.5l-.94 2.06-2.06.94zm10 10l.94 2.06.94-2.06 2.06-.94-2.06-.94-.94-2.06-.94 2.06-2.06.94z\"/><path d=\"M17.41 7.96l-1.37-1.37c-.4-.4-.92-.59-1.43-.59-.52 0-1.04.2-1.43.59L10.3 9.45l-7.72 7.72c-.78.78-.78 2.05 0 2.83L4 21.41c.39.39.9.59 1.41.59.51 0 1.02-.2 1.41-.59l7.78-7.78 2.81-2.81c.8-.78.8-2.07 0-2.86zM5.41 20L4 18.59l7.72-7.72 1.47 1.35L5.41 20z\"/>\n",
              "  </svg>\n",
              "      </button>\n",
              "      \n",
              "  <style>\n",
              "    .colab-df-container {\n",
              "      display:flex;\n",
              "      flex-wrap:wrap;\n",
              "      gap: 12px;\n",
              "    }\n",
              "\n",
              "    .colab-df-convert {\n",
              "      background-color: #E8F0FE;\n",
              "      border: none;\n",
              "      border-radius: 50%;\n",
              "      cursor: pointer;\n",
              "      display: none;\n",
              "      fill: #1967D2;\n",
              "      height: 32px;\n",
              "      padding: 0 0 0 0;\n",
              "      width: 32px;\n",
              "    }\n",
              "\n",
              "    .colab-df-convert:hover {\n",
              "      background-color: #E2EBFA;\n",
              "      box-shadow: 0px 1px 2px rgba(60, 64, 67, 0.3), 0px 1px 3px 1px rgba(60, 64, 67, 0.15);\n",
              "      fill: #174EA6;\n",
              "    }\n",
              "\n",
              "    [theme=dark] .colab-df-convert {\n",
              "      background-color: #3B4455;\n",
              "      fill: #D2E3FC;\n",
              "    }\n",
              "\n",
              "    [theme=dark] .colab-df-convert:hover {\n",
              "      background-color: #434B5C;\n",
              "      box-shadow: 0px 1px 3px 1px rgba(0, 0, 0, 0.15);\n",
              "      filter: drop-shadow(0px 1px 2px rgba(0, 0, 0, 0.3));\n",
              "      fill: #FFFFFF;\n",
              "    }\n",
              "  </style>\n",
              "\n",
              "      <script>\n",
              "        const buttonEl =\n",
              "          document.querySelector('#df-0923e051-0772-497e-8fa2-df921ba664e1 button.colab-df-convert');\n",
              "        buttonEl.style.display =\n",
              "          google.colab.kernel.accessAllowed ? 'block' : 'none';\n",
              "\n",
              "        async function convertToInteractive(key) {\n",
              "          const element = document.querySelector('#df-0923e051-0772-497e-8fa2-df921ba664e1');\n",
              "          const dataTable =\n",
              "            await google.colab.kernel.invokeFunction('convertToInteractive',\n",
              "                                                     [key], {});\n",
              "          if (!dataTable) return;\n",
              "\n",
              "          const docLinkHtml = 'Like what you see? Visit the ' +\n",
              "            '<a target=\"_blank\" href=https://colab.research.google.com/notebooks/data_table.ipynb>data table notebook</a>'\n",
              "            + ' to learn more about interactive tables.';\n",
              "          element.innerHTML = '';\n",
              "          dataTable['output_type'] = 'display_data';\n",
              "          await google.colab.output.renderOutput(dataTable, element);\n",
              "          const docLink = document.createElement('div');\n",
              "          docLink.innerHTML = docLinkHtml;\n",
              "          element.appendChild(docLink);\n",
              "        }\n",
              "      </script>\n",
              "    </div>\n",
              "  </div>\n",
              "  "
            ]
          },
          "metadata": {},
          "execution_count": 18
        }
      ]
    },
    {
      "cell_type": "code",
      "source": [
        "df[df[\"Name\"].str.contains(\"C\\+\\+\") == True]"
      ],
      "metadata": {
        "colab": {
          "base_uri": "https://localhost:8080/",
          "height": 269
        },
        "id": "yN3KTA3zaMxE",
        "outputId": "d717dc11-ffea-46c6-9edb-c422235e4df4"
      },
      "execution_count": null,
      "outputs": [
        {
          "output_type": "execute_result",
          "data": {
            "text/plain": [
              "     Year          Name Chief developer, company      Predecessor(s)\n",
              "183  1983           C++        Bjarne Stroustrup      C with Classes\n",
              "296  1998  Standard C++    ANSI/ISO Standard C++  C++, Standard C, C\n",
              "322  2003         C++03   C++ ISO/IEC 14882:2003  C++, Standard C, C\n",
              "362  2011         C++11   C++ ISO/IEC 14882:2011  C++, Standard C, C\n",
              "380  2014         C++14   C++ ISO/IEC 14882:2014  C++, Standard C, C\n",
              "385  2017         C++17   C++ ISO/IEC 14882:2017  C++, Standard C, C\n",
              "391  2020         C++20   C++ ISO/IEC 14882:2020  C++, Standard C, C"
            ],
            "text/html": [
              "\n",
              "  <div id=\"df-750f364c-a69a-443b-8bcc-f7872dc6debd\">\n",
              "    <div class=\"colab-df-container\">\n",
              "      <div>\n",
              "<style scoped>\n",
              "    .dataframe tbody tr th:only-of-type {\n",
              "        vertical-align: middle;\n",
              "    }\n",
              "\n",
              "    .dataframe tbody tr th {\n",
              "        vertical-align: top;\n",
              "    }\n",
              "\n",
              "    .dataframe thead th {\n",
              "        text-align: right;\n",
              "    }\n",
              "</style>\n",
              "<table border=\"1\" class=\"dataframe\">\n",
              "  <thead>\n",
              "    <tr style=\"text-align: right;\">\n",
              "      <th></th>\n",
              "      <th>Year</th>\n",
              "      <th>Name</th>\n",
              "      <th>Chief developer, company</th>\n",
              "      <th>Predecessor(s)</th>\n",
              "    </tr>\n",
              "  </thead>\n",
              "  <tbody>\n",
              "    <tr>\n",
              "      <th>183</th>\n",
              "      <td>1983</td>\n",
              "      <td>C++</td>\n",
              "      <td>Bjarne Stroustrup</td>\n",
              "      <td>C with Classes</td>\n",
              "    </tr>\n",
              "    <tr>\n",
              "      <th>296</th>\n",
              "      <td>1998</td>\n",
              "      <td>Standard C++</td>\n",
              "      <td>ANSI/ISO Standard C++</td>\n",
              "      <td>C++, Standard C, C</td>\n",
              "    </tr>\n",
              "    <tr>\n",
              "      <th>322</th>\n",
              "      <td>2003</td>\n",
              "      <td>C++03</td>\n",
              "      <td>C++ ISO/IEC 14882:2003</td>\n",
              "      <td>C++, Standard C, C</td>\n",
              "    </tr>\n",
              "    <tr>\n",
              "      <th>362</th>\n",
              "      <td>2011</td>\n",
              "      <td>C++11</td>\n",
              "      <td>C++ ISO/IEC 14882:2011</td>\n",
              "      <td>C++, Standard C, C</td>\n",
              "    </tr>\n",
              "    <tr>\n",
              "      <th>380</th>\n",
              "      <td>2014</td>\n",
              "      <td>C++14</td>\n",
              "      <td>C++ ISO/IEC 14882:2014</td>\n",
              "      <td>C++, Standard C, C</td>\n",
              "    </tr>\n",
              "    <tr>\n",
              "      <th>385</th>\n",
              "      <td>2017</td>\n",
              "      <td>C++17</td>\n",
              "      <td>C++ ISO/IEC 14882:2017</td>\n",
              "      <td>C++, Standard C, C</td>\n",
              "    </tr>\n",
              "    <tr>\n",
              "      <th>391</th>\n",
              "      <td>2020</td>\n",
              "      <td>C++20</td>\n",
              "      <td>C++ ISO/IEC 14882:2020</td>\n",
              "      <td>C++, Standard C, C</td>\n",
              "    </tr>\n",
              "  </tbody>\n",
              "</table>\n",
              "</div>\n",
              "      <button class=\"colab-df-convert\" onclick=\"convertToInteractive('df-750f364c-a69a-443b-8bcc-f7872dc6debd')\"\n",
              "              title=\"Convert this dataframe to an interactive table.\"\n",
              "              style=\"display:none;\">\n",
              "        \n",
              "  <svg xmlns=\"http://www.w3.org/2000/svg\" height=\"24px\"viewBox=\"0 0 24 24\"\n",
              "       width=\"24px\">\n",
              "    <path d=\"M0 0h24v24H0V0z\" fill=\"none\"/>\n",
              "    <path d=\"M18.56 5.44l.94 2.06.94-2.06 2.06-.94-2.06-.94-.94-2.06-.94 2.06-2.06.94zm-11 1L8.5 8.5l.94-2.06 2.06-.94-2.06-.94L8.5 2.5l-.94 2.06-2.06.94zm10 10l.94 2.06.94-2.06 2.06-.94-2.06-.94-.94-2.06-.94 2.06-2.06.94z\"/><path d=\"M17.41 7.96l-1.37-1.37c-.4-.4-.92-.59-1.43-.59-.52 0-1.04.2-1.43.59L10.3 9.45l-7.72 7.72c-.78.78-.78 2.05 0 2.83L4 21.41c.39.39.9.59 1.41.59.51 0 1.02-.2 1.41-.59l7.78-7.78 2.81-2.81c.8-.78.8-2.07 0-2.86zM5.41 20L4 18.59l7.72-7.72 1.47 1.35L5.41 20z\"/>\n",
              "  </svg>\n",
              "      </button>\n",
              "      \n",
              "  <style>\n",
              "    .colab-df-container {\n",
              "      display:flex;\n",
              "      flex-wrap:wrap;\n",
              "      gap: 12px;\n",
              "    }\n",
              "\n",
              "    .colab-df-convert {\n",
              "      background-color: #E8F0FE;\n",
              "      border: none;\n",
              "      border-radius: 50%;\n",
              "      cursor: pointer;\n",
              "      display: none;\n",
              "      fill: #1967D2;\n",
              "      height: 32px;\n",
              "      padding: 0 0 0 0;\n",
              "      width: 32px;\n",
              "    }\n",
              "\n",
              "    .colab-df-convert:hover {\n",
              "      background-color: #E2EBFA;\n",
              "      box-shadow: 0px 1px 2px rgba(60, 64, 67, 0.3), 0px 1px 3px 1px rgba(60, 64, 67, 0.15);\n",
              "      fill: #174EA6;\n",
              "    }\n",
              "\n",
              "    [theme=dark] .colab-df-convert {\n",
              "      background-color: #3B4455;\n",
              "      fill: #D2E3FC;\n",
              "    }\n",
              "\n",
              "    [theme=dark] .colab-df-convert:hover {\n",
              "      background-color: #434B5C;\n",
              "      box-shadow: 0px 1px 3px 1px rgba(0, 0, 0, 0.15);\n",
              "      filter: drop-shadow(0px 1px 2px rgba(0, 0, 0, 0.3));\n",
              "      fill: #FFFFFF;\n",
              "    }\n",
              "  </style>\n",
              "\n",
              "      <script>\n",
              "        const buttonEl =\n",
              "          document.querySelector('#df-750f364c-a69a-443b-8bcc-f7872dc6debd button.colab-df-convert');\n",
              "        buttonEl.style.display =\n",
              "          google.colab.kernel.accessAllowed ? 'block' : 'none';\n",
              "\n",
              "        async function convertToInteractive(key) {\n",
              "          const element = document.querySelector('#df-750f364c-a69a-443b-8bcc-f7872dc6debd');\n",
              "          const dataTable =\n",
              "            await google.colab.kernel.invokeFunction('convertToInteractive',\n",
              "                                                     [key], {});\n",
              "          if (!dataTable) return;\n",
              "\n",
              "          const docLinkHtml = 'Like what you see? Visit the ' +\n",
              "            '<a target=\"_blank\" href=https://colab.research.google.com/notebooks/data_table.ipynb>data table notebook</a>'\n",
              "            + ' to learn more about interactive tables.';\n",
              "          element.innerHTML = '';\n",
              "          dataTable['output_type'] = 'display_data';\n",
              "          await google.colab.output.renderOutput(dataTable, element);\n",
              "          const docLink = document.createElement('div');\n",
              "          docLink.innerHTML = docLinkHtml;\n",
              "          element.appendChild(docLink);\n",
              "        }\n",
              "      </script>\n",
              "    </div>\n",
              "  </div>\n",
              "  "
            ]
          },
          "metadata": {},
          "execution_count": 19
        }
      ]
    },
    {
      "cell_type": "code",
      "source": [
        "dfgroup = df.groupby(\"Year\").size()\n",
        "years = dfgroup[dfgroup > 5].index\n",
        "print(years)"
      ],
      "metadata": {
        "colab": {
          "base_uri": "https://localhost:8080/"
        },
        "id": "HxUBFcr7ag6k",
        "outputId": "caf05251-1616-4e86-830b-e6ceafa82e2d"
      },
      "execution_count": null,
      "outputs": [
        {
          "output_type": "stream",
          "name": "stdout",
          "text": [
            "Int64Index([1951, 1954, 1955, 1957, 1959, 1964, 1966, 1967, 1968, 1969, 1972,\n",
            "            1975, 1976, 1977, 1978, 1979, 1980, 1983, 1984, 1986, 1987, 1988,\n",
            "            1989, 1990, 1991, 1993, 1995, 1996, 1997, 1998, 2001, 2003, 2005,\n",
            "            2007, 2009, 2011, 2012],\n",
            "           dtype='int64', name='Year')\n"
          ]
        }
      ]
    },
    {
      "cell_type": "code",
      "source": [
        "import matplotlib.pyplot as plt\n",
        "\n",
        "counts = years.value_counts()\n",
        "plt.barh(years, counts, color=[\"red\", \"green\", \"blue\"])\n",
        "\n",
        "\n",
        "plt.title(\"Linguaggi di programmazione inventati per anno\")\n",
        "\n",
        "\n",
        "plt.xlabel(\"Numero di linguaggi di programmazione\")\n",
        "plt.ylabel(\"Anno\")\n",
        "\n",
        "# aggiungi la legenda\n",
        "plt.legend([\"Linguaggi di programmazione\"])\n",
        "\n",
        "# mostra il grafico\n",
        "plt.show()"
      ],
      "metadata": {
        "colab": {
          "base_uri": "https://localhost:8080/",
          "height": 295
        },
        "id": "U4sbc6-SbcW-",
        "outputId": "36a69ea7-b9b5-406f-e1c5-7c5a1c374e02"
      },
      "execution_count": null,
      "outputs": [
        {
          "output_type": "display_data",
          "data": {
            "text/plain": [
              "<Figure size 432x288 with 1 Axes>"
            ],
            "image/png": "[encoded data removed]"
          },
          "metadata": {
            "needs_background": "light"
          }
        }
      ]
    }
  ]
}